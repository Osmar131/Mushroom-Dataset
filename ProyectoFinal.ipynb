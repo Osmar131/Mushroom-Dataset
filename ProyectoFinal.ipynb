{
 "cells": [
  {
   "cell_type": "markdown",
   "id": "69d733a1",
   "metadata": {},
   "source": [
    "# Carga de librerías necesarias"
   ]
  },
  {
   "cell_type": "code",
   "execution_count": null,
   "id": "7afc0922",
   "metadata": {},
   "outputs": [],
   "source": [
    "import pandas as pd, numpy as np\n",
    "from tabulate import tabulate\n",
    "import matplotlib.pyplot as plt\n",
    "import seaborn as sns\n",
    "from tqdm import tqdm\n",
    "import random\n",
    "import time\n",
    "from sklearn.metrics import mean_squared_error\n",
    "from sklearn.model_selection import cross_val_score"
   ]
  },
  {
   "cell_type": "markdown",
   "id": "cd9f7bb8",
   "metadata": {},
   "source": [
    "# Carga de dataset"
   ]
  },
  {
   "cell_type": "code",
   "execution_count": null,
   "id": "e33e6176",
   "metadata": {},
   "outputs": [],
   "source": [
    "data = pd.read_csv('mushrooms.csv')\n",
    "data.head(15)"
   ]
  },
  {
   "cell_type": "code",
   "execution_count": null,
   "id": "04270188",
   "metadata": {},
   "outputs": [],
   "source": [
    "att = data.columns\n",
    "print(att)"
   ]
  },
  {
   "cell_type": "markdown",
   "id": "e47fc1e9",
   "metadata": {},
   "source": [
    "# Cambio de nombres de atributos"
   ]
  },
  {
   "cell_type": "code",
   "execution_count": null,
   "id": "05f863d0",
   "metadata": {},
   "outputs": [],
   "source": [
    "att = ['cap-shape', 'cap-surface', 'cap-color', 'bruises', 'odor',\n",
    "       'gill-attachment', 'gill-spacing', 'gill-size', 'gill-color',\n",
    "       'stalk-shape', 'stalk-root', 'stalk-surface-above-ring',\n",
    "       'stalk-surface-below-ring', 'stalk-color-above-ring',\n",
    "       'stalk-color-below-ring', 'veil-type', 'veil-color', 'ring-number',\n",
    "       'ring-type', 'spore-print-color', 'population', 'habitat', 'class']\n",
    "\n",
    "data = data[att]\n",
    "data_new = data.copy()\n",
    "data_mode = data.copy()\n",
    "data_HD = data.copy()\n",
    "data"
   ]
  },
  {
   "cell_type": "code",
   "execution_count": null,
   "id": "fefedf9e",
   "metadata": {},
   "outputs": [],
   "source": [
    "data.info()"
   ]
  },
  {
   "cell_type": "markdown",
   "id": "0add12c7",
   "metadata": {},
   "source": [
    "# Datos por atributo"
   ]
  },
  {
   "cell_type": "code",
   "execution_count": null,
   "id": "5c23fb96",
   "metadata": {},
   "outputs": [],
   "source": [
    "dat_miss=[]\n",
    "for n,col in enumerate(att):\n",
    "    dat_miss+=[[n,col,data[col].unique().tolist()]]\n",
    "#     print(data[col].unique(),col)\n",
    "    \n",
    "print(tabulate(dat_miss,headers=['#','Atributo','Datos']))"
   ]
  },
  {
   "cell_type": "markdown",
   "id": "236d74b1",
   "metadata": {},
   "source": [
    "# Cuantificación de valores por atributo"
   ]
  },
  {
   "cell_type": "code",
   "execution_count": null,
   "id": "42093bf7",
   "metadata": {},
   "outputs": [],
   "source": [
    "for col in data_new.columns:\n",
    "    plt.figure()\n",
    "    plt.title('Distribución de datos '+col)\n",
    "    plt.grid('on')\n",
    "    sns.countplot(data[col])\n",
    "    plt.show()"
   ]
  },
  {
   "cell_type": "markdown",
   "id": "11be6cb7",
   "metadata": {},
   "source": [
    "# Codificación para obtención de mapa de correlación"
   ]
  },
  {
   "cell_type": "code",
   "execution_count": null,
   "id": "b19469b2",
   "metadata": {},
   "outputs": [],
   "source": [
    "for d in dat_miss:\n",
    "#     print(d[1])\n",
    "    for code,datum in enumerate(d[2]):\n",
    "#         print(datum)\n",
    "        data_new.loc[data_new[d[1]]==datum,d[1]]=code\n",
    "    data_new[d[1]] = data_new[d[1]].astype('float')"
   ]
  },
  {
   "cell_type": "markdown",
   "id": "e2a69725",
   "metadata": {},
   "source": [
    "# Dataset codificado"
   ]
  },
  {
   "cell_type": "code",
   "execution_count": null,
   "id": "6420373f",
   "metadata": {},
   "outputs": [],
   "source": [
    "data_new.head(15)"
   ]
  },
  {
   "cell_type": "markdown",
   "id": "01438a62",
   "metadata": {},
   "source": [
    "# Mapa de correlación"
   ]
  },
  {
   "cell_type": "code",
   "execution_count": null,
   "id": "9c6a1076",
   "metadata": {},
   "outputs": [],
   "source": [
    "corr_data = data_new.corr(method = 'pearson')\n",
    "\n",
    "plt.figure(figsize= (30, 30),dpi=150)\n",
    "plt.title('Correlación de atributos de Mushroom', fontsize = 30)\n",
    "sns.heatmap(corr_data, annot = True, cmap = 'Blues', fmt=\".2f\")\n",
    "\n",
    "plt.show()"
   ]
  },
  {
   "cell_type": "markdown",
   "id": "9015e46e",
   "metadata": {},
   "source": [
    "# Datos por atributo despues de correlación"
   ]
  },
  {
   "cell_type": "code",
   "execution_count": null,
   "id": "f711f547",
   "metadata": {},
   "outputs": [],
   "source": [
    "dat_miss_cods=[]\n",
    "for n,col in enumerate(att):\n",
    "    dat_miss_cods += [[n,col,data_new[col].unique().tolist()]]\n",
    "#     print(data[col].unique(),col)\n",
    "    \n",
    "print(tabulate(dat_miss_cods,headers=['#','Atributo','Datos']))"
   ]
  },
  {
   "cell_type": "markdown",
   "id": "168c0224",
   "metadata": {},
   "source": [
    "# Imputacion de datos por media (moda) por clase"
   ]
  },
  {
   "cell_type": "code",
   "execution_count": null,
   "id": "87dddaf2",
   "metadata": {},
   "outputs": [],
   "source": [
    "# media por clase 0\n",
    "indices=[]\n",
    "for ins in tqdm(data.index):\n",
    "#     print(ins,n,data.loc[ins,data.columns[11]])\n",
    "    if 'p' == data.loc[ins,data.columns[-1]]:\n",
    "        indices += [ins]\n",
    "        \n",
    "data_class0 = data.loc[indices,:]\n",
    "# data_missings\n",
    "\n",
    "# media por clase 1\n",
    "indices=[]\n",
    "for ins in tqdm(data.index):\n",
    "#     print(ins,n,data.loc[ins,data.columns[11]])\n",
    "    if 'e' == data.loc[ins,data.columns[-1]]:\n",
    "        indices += [ins]\n",
    "        \n",
    "data_class1 = data.loc[indices,:]\n",
    "\n",
    "# deteccion de datos faltantes para imputación\n",
    "indices=[]\n",
    "for ins in tqdm(data.index):\n",
    "#     print(ins,n,data.loc[ins,data.columns[11]])\n",
    "    if '?' == data.loc[ins,data.columns[10]]:\n",
    "        indices += [ins]\n",
    "        \n",
    "data_missings = data.loc[indices,:]\n",
    "data_missings"
   ]
  },
  {
   "cell_type": "markdown",
   "id": "bc25a97d",
   "metadata": {},
   "source": [
    "# Conteo de atributo con datos perdidos antes de imputación"
   ]
  },
  {
   "cell_type": "code",
   "execution_count": null,
   "id": "071015c3",
   "metadata": {},
   "outputs": [],
   "source": [
    "print(data_class0['stalk-root'].value_counts())\n",
    "print(data_class1['stalk-root'].value_counts())"
   ]
  },
  {
   "cell_type": "markdown",
   "id": "0931a778",
   "metadata": {},
   "source": [
    "# Imputación de datos"
   ]
  },
  {
   "cell_type": "code",
   "execution_count": null,
   "id": "2c025a35",
   "metadata": {},
   "outputs": [],
   "source": [
    "dat0 = data_class0['stalk-root'].mode().tolist()\n",
    "print('Moda de atributo stalk-root para clase 0: ',dat0)\n",
    "dat1 = data_class1['stalk-root'].mode().tolist()\n",
    "print('Moda de atributo stalk-root para clase 1: ',dat1)\n",
    "\n",
    "data_class0.loc[data_class0['stalk-root']=='?','stalk-root']=dat0[0]\n",
    "data_class1.loc[data_class1['stalk-root']=='?','stalk-root']=dat0[0]"
   ]
  },
  {
   "cell_type": "markdown",
   "id": "5b40cb54",
   "metadata": {},
   "source": [
    "# Comprobación de datos perdidos despues de imputación de datos"
   ]
  },
  {
   "cell_type": "code",
   "execution_count": null,
   "id": "92e21a22",
   "metadata": {},
   "outputs": [],
   "source": [
    "print(data_class0['stalk-root'].value_counts())\n",
    "print(data_class1['stalk-root'].value_counts())\n",
    "\n",
    "# Concatenación de datos completos e imputados\n",
    "data_mode = pd.concat([data_class0, data_class1])"
   ]
  },
  {
   "cell_type": "markdown",
   "id": "4cbc9ffd",
   "metadata": {},
   "source": [
    "# Comprobación de datos por atributo y no nulos"
   ]
  },
  {
   "cell_type": "code",
   "execution_count": null,
   "id": "24cc8389",
   "metadata": {},
   "outputs": [],
   "source": [
    "dat_miss_cods=[]\n",
    "for n,col in enumerate(att):\n",
    "    dat_miss_cods += [[n,col,data_mode[col].unique().tolist()]]\n",
    "#     print(data[col].unique(),col)\n",
    "    \n",
    "print(tabulate(dat_miss_cods,headers=['#','Atributo','Datos']))"
   ]
  },
  {
   "cell_type": "markdown",
   "id": "ec59f46d",
   "metadata": {},
   "source": [
    "# Conteo de datos despues de imputación de datos faltantes"
   ]
  },
  {
   "cell_type": "code",
   "execution_count": null,
   "id": "e298f39b",
   "metadata": {},
   "outputs": [],
   "source": [
    "plt.figure()\n",
    "plt.title('Distribución de datos '+col)\n",
    "plt.grid('on')\n",
    "sns.countplot(data_mode['stalk-root'])\n",
    "plt.show()"
   ]
  },
  {
   "cell_type": "markdown",
   "id": "2c4032e7",
   "metadata": {},
   "source": [
    "# Entrenamiento con datos imputados por moda de clases\n",
    "## Muestreo de datos de ejemplo para oob (validación cruzada)"
   ]
  },
  {
   "cell_type": "code",
   "execution_count": null,
   "id": "df4ff500",
   "metadata": {},
   "outputs": [],
   "source": [
    "data_mode.sample(frac=2/3,replace=True)"
   ]
  },
  {
   "cell_type": "markdown",
   "id": "1f416a6e",
   "metadata": {},
   "source": [
    "# Codificación de datos para train a partir de imputación por moda"
   ]
  },
  {
   "cell_type": "code",
   "execution_count": null,
   "id": "9e63b6a1",
   "metadata": {},
   "outputs": [],
   "source": [
    "data_mode_cod= data_mode.copy()\n",
    "for d in dat_miss_cods:\n",
    "    for code,datum in enumerate(d[2]):\n",
    "        data_mode_cod.loc[data_mode_cod[d[1]]==datum,d[1]]=code\n",
    "    data_mode_cod[d[1]] = data_mode_cod[d[1]].astype('float')\n",
    "data_mode_cod.sort_index().head(15)"
   ]
  },
  {
   "cell_type": "markdown",
   "id": "1d3a18ab",
   "metadata": {},
   "source": [
    "# División de datos en train y test 80/20"
   ]
  },
  {
   "cell_type": "code",
   "execution_count": null,
   "id": "c09a27b7",
   "metadata": {},
   "outputs": [],
   "source": [
    "from sklearn.utils import shuffle\n",
    "from sklearn.model_selection import train_test_split, KFold\n",
    "\n",
    "# Aleatorización de datos\n",
    "x = data_mode_cod[data_mode_cod.columns[:-1]]\n",
    "y = data_mode_cod[data_mode_cod.columns[-1]]\n",
    "print(x.shape)\n",
    "print(y.shape)\n",
    "train, labels = shuffle(x, y)\n",
    "\n",
    "# Division de datos en train y test\n",
    "x_train, x_test, y_train, y_test = train_test_split(train, labels, train_size = 0.8)\n",
    "print(x_train.shape)\n",
    "print(y_test.shape)\n",
    "print(data_mode_cod.columns[:-1])\n",
    "print(data_mode[data_mode.columns[-1]].unique().tolist())"
   ]
  },
  {
   "cell_type": "markdown",
   "id": "2ff44651",
   "metadata": {},
   "source": [
    "# Train de Modelo RandomForestClassifier con datos imputados por moda por clase"
   ]
  },
  {
   "cell_type": "code",
   "execution_count": null,
   "id": "f19e11b8",
   "metadata": {},
   "outputs": [],
   "source": [
    "from sklearn.ensemble import RandomForestClassifier\n",
    "\n",
    "bosque = RandomForestClassifier(n_estimators=100,\n",
    "                                   criterion='entropy',\n",
    "                                   max_features='sqrt',\n",
    "                                   bootstrap=True,\n",
    "                                   max_samples=2/3,\n",
    "                                   oob_score=True)\n",
    "\n",
    "bosque.fit(x_train, y_train)"
   ]
  },
  {
   "cell_type": "markdown",
   "id": "a3223887",
   "metadata": {},
   "source": [
    "# Predicción y score con datos train y test"
   ]
  },
  {
   "cell_type": "code",
   "execution_count": null,
   "id": "e36fdb97",
   "metadata": {},
   "outputs": [],
   "source": [
    "test0 = x_test.iloc[0].tolist()\n",
    "test1 = x_test.iloc[1].tolist()\n",
    "test2 = x_test.iloc[2].tolist()\n",
    "test3 = x_test.iloc[3].tolist()\n",
    "test4 = x_test.iloc[4].tolist()\n",
    "\n",
    "print('Predicción: ', bosque.predict([test0]))\n",
    "print('Verdadero: ', y_test.iloc[0].tolist())\n",
    "print('Predicción: ', bosque.predict([test1]))\n",
    "print('Verdadero: ', y_test.iloc[1].tolist())\n",
    "print('Predicción: ', bosque.predict([test2]))\n",
    "print('Verdadero: ', y_test.iloc[2].tolist())\n",
    "print('Predicción: ', bosque.predict([test3]))\n",
    "print('Verdadero: ', y_test.iloc[3].tolist())\n",
    "print('Predicción: ', bosque.predict([test4]))\n",
    "print('Verdadero: ', y_test.iloc[4].tolist())\n",
    "\n",
    "print('\\nscore con datos de train',bosque.score(x_train,y_train))\n",
    "print('score con datos de test',bosque.score(x_test,y_test))\n",
    "print('score',bosque.oob_score_)"
   ]
  },
  {
   "cell_type": "markdown",
   "id": "8f1b28b3",
   "metadata": {},
   "source": [
    "# Reporte y matriz de confusión¶"
   ]
  },
  {
   "cell_type": "code",
   "execution_count": null,
   "id": "6e9df43a",
   "metadata": {},
   "outputs": [],
   "source": [
    "from sklearn.metrics import accuracy_score, confusion_matrix, classification_report\n",
    "\n",
    "y_pred_test = bosque.predict(x_test)\n",
    "print('Reporte y matriz de confusión')\n",
    "print(accuracy_score(y_test, y_pred_test))\n",
    "print(confusion_matrix(y_test, y_pred_test))\n",
    "print(classification_report(y_test, y_pred_test))"
   ]
  },
  {
   "cell_type": "code",
   "execution_count": null,
   "id": "161b37ed",
   "metadata": {},
   "outputs": [],
   "source": [
    "matrix = confusion_matrix(y_test, y_pred_test)\n",
    "\n",
    "# Build the plot\n",
    "plt.figure(figsize=(16,7))\n",
    "sns.set(font_scale=1.4)\n",
    "sns.heatmap(matrix, annot=True, annot_kws={'size':10},\n",
    "            cmap=plt.cm.Greens, linewidths=0.2,fmt='d')\n",
    "\n",
    "# Add labels to the plot\n",
    "class_names = ['poisonous', 'edible']\n",
    "tick_marks = np.arange(len(class_names))\n",
    "tick_marks2 = tick_marks + 0.5\n",
    "plt.xticks(tick_marks, class_names, rotation=25,fontsize=20)\n",
    "plt.yticks(tick_marks2, class_names, rotation=0,fontsize=20)\n",
    "plt.xlabel('Predicted label')\n",
    "plt.ylabel('True label')\n",
    "plt.title('Confusion Matrix for Random Forest Model')\n",
    "plt.show()"
   ]
  },
  {
   "cell_type": "markdown",
   "id": "3afa0bcf",
   "metadata": {},
   "source": [
    "# Visualización de Bosque Aleatorio"
   ]
  },
  {
   "cell_type": "code",
   "execution_count": null,
   "id": "79fd0d5a",
   "metadata": {},
   "outputs": [],
   "source": [
    "import matplotlib.pyplot as plt\n",
    "from sklearn import tree\n",
    "\n",
    "for e,arbol in zip(range(10),bosque.estimators_):\n",
    "    fig = plt.figure(figsize=(40,35),dpi=300)\n",
    "    plt.title('Arbol #: ' + str(e))\n",
    "    tree.plot_tree(arbol, \n",
    "                   feature_names=data_mode_cod.columns[:-1],\n",
    "                   class_names=class_names,\n",
    "                  filled=True)\n",
    "#     plt.savefig('Arbol_' + str(e)+'.png', dpi=300)\n",
    "    plt.show()"
   ]
  },
  {
   "cell_type": "markdown",
   "id": "3d79845e",
   "metadata": {},
   "source": [
    "# Evolución del out-of-bag-error vs número árboles"
   ]
  },
  {
   "cell_type": "code",
   "execution_count": null,
   "id": "a0bd34dd",
   "metadata": {},
   "outputs": [],
   "source": [
    "# Validación empleando el Out-of-Bag error\n",
    "# ==============================================================================\n",
    "train_scores = []\n",
    "oob_scores   = []\n",
    "\n",
    "# Valores evaluados\n",
    "estimator_range = range(1, 50, 5)\n",
    "\n",
    "# Bucle para entrenar un modelo con cada valor de n_estimators y extraer su error\n",
    "# de entrenamiento y de Out-of-Bag.\n",
    "for n_estimators in estimator_range:\n",
    "    bosque = RandomForestClassifier(\n",
    "                n_estimators = n_estimators,\n",
    "                criterion    = 'entropy',\n",
    "                max_depth    = None,\n",
    "                max_features = 'sqrt',\n",
    "                oob_score    = True,\n",
    "                n_jobs       = -1,\n",
    "                random_state = 123\n",
    "             )\n",
    "    bosque.fit(x_train, y_train)\n",
    "    train_scores.append(bosque.score(x_train, y_train))\n",
    "    oob_scores.append(bosque.oob_score_)\n",
    "    \n",
    "# Gráfico con la evolución de los errores\n",
    "fig, ax = plt.subplots(figsize=(6, 3.84))\n",
    "ax.plot(estimator_range, train_scores, label=\"train scores\")\n",
    "ax.plot(estimator_range, oob_scores, label=\"out-of-bag scores\")\n",
    "ax.plot(estimator_range[np.argmax(oob_scores)], max(oob_scores),\n",
    "        marker='o', color = \"red\", label=\"max score\")\n",
    "ax.set_ylabel(\"R^2\")\n",
    "ax.set_xlabel(\"n_estimators\")\n",
    "ax.set_title(\"Evolución del out-of-bag-error vs número árboles\")\n",
    "plt.legend();\n",
    "print(f\"Valor óptimo de n_estimators: {estimator_range[np.argmax(oob_scores)]}\")"
   ]
  },
  {
   "cell_type": "markdown",
   "id": "7b15c211",
   "metadata": {},
   "source": [
    "# Evaluacion del cv-error vs número de arboles"
   ]
  },
  {
   "cell_type": "code",
   "execution_count": null,
   "id": "9ddd78c5",
   "metadata": {},
   "outputs": [],
   "source": [
    "from sklearn.metrics import mean_squared_error\n",
    "from sklearn.model_selection import cross_val_score\n",
    "\n",
    "# Validación empleando k-cross-validation y neg_root_mean_squared_error\n",
    "# ==============================================================================\n",
    "train_scores = []\n",
    "cv_scores    = []\n",
    "\n",
    "# Valores evaluados\n",
    "estimator_range = range(1, 50, 5)\n",
    "\n",
    "# Bucle para entrenar un modelo con cada valor de n_estimators y extraer su error\n",
    "# de entrenamiento y de k-cross-validation.\n",
    "for n_estimators in estimator_range:\n",
    "    \n",
    "    bosque = RandomForestClassifier(\n",
    "                n_estimators = n_estimators,\n",
    "                criterion    = 'entropy',\n",
    "                max_depth    = None,\n",
    "                max_features = 'sqrt',\n",
    "                oob_score    = False,\n",
    "                n_jobs       = -1,\n",
    "                random_state = 123\n",
    "             )\n",
    "    \n",
    "    # Error de train\n",
    "    bosque.fit(x_train, y_train)\n",
    "    predicciones = bosque.predict(x_train)\n",
    "    rmse = mean_squared_error(\n",
    "            y_true  = y_train,\n",
    "            y_pred  = predicciones,\n",
    "            squared = False\n",
    "           )\n",
    "    train_scores.append(rmse)\n",
    "    \n",
    "    # Error de validación cruzada\n",
    "    scores = cross_val_score(\n",
    "                estimator = bosque,\n",
    "                X         = x_train,\n",
    "                y         = y_train,\n",
    "                scoring   = 'neg_root_mean_squared_error',\n",
    "                cv        = 5\n",
    "             )\n",
    "    # Se agregan los scores de cross_val_score() y se pasa a positivo\n",
    "    cv_scores.append(-1*scores.mean())\n",
    "    \n",
    "# Gráfico con la evolución de los errores\n",
    "fig, ax = plt.subplots(figsize=(6, 3.84))\n",
    "ax.plot(estimator_range, train_scores, label=\"train scores\")\n",
    "ax.plot(estimator_range, cv_scores, label=\"cv scores\")\n",
    "ax.plot(estimator_range[np.argmin(cv_scores)], min(cv_scores),\n",
    "        marker='o', color = \"red\", label=\"min score\")\n",
    "ax.set_ylabel(\"root_mean_squared_error\")\n",
    "ax.set_xlabel(\"n_estimators\")\n",
    "ax.set_title(\"Evolución del cv-error vs número árboles\")\n",
    "plt.legend();\n",
    "print(f\"Valor óptimo de n_estimators: {estimator_range[np.argmin(cv_scores)]}\")"
   ]
  },
  {
   "cell_type": "markdown",
   "id": "6f12f5db",
   "metadata": {},
   "source": [
    "# 2.- Imputación Hot-Deck\n",
    "## Detección de datos perdidos"
   ]
  },
  {
   "cell_type": "code",
   "execution_count": null,
   "id": "5a19496a",
   "metadata": {},
   "outputs": [],
   "source": [
    "indices=[]\n",
    "for ins in tqdm(data.index):\n",
    "#     print(ins,n,data.loc[ins,data.columns[11]])\n",
    "    if '?' == data.loc[ins,data.columns[10]]:\n",
    "        indices += [ins]\n",
    "        \n",
    "data_missings = data.loc[indices,:]\n",
    "data_missings"
   ]
  },
  {
   "cell_type": "markdown",
   "id": "a50b3719",
   "metadata": {},
   "source": [
    "# Detección de datos validos"
   ]
  },
  {
   "cell_type": "code",
   "execution_count": null,
   "id": "7f62e156",
   "metadata": {},
   "outputs": [],
   "source": [
    "# detección de datos no perdidos (missings) por indice en database\n",
    "indices=[]\n",
    "for ins in tqdm(data.index):\n",
    "#     print(ins,n,data.loc[ins,data.columns[11]])\n",
    "    if '?' != data.loc[ins,data.columns[10]]:\n",
    "        indices += [ins]\n",
    "        \n",
    "data_fill = data.loc[indices,:]"
   ]
  },
  {
   "cell_type": "markdown",
   "id": "9a809dc6",
   "metadata": {},
   "source": [
    "# Toma de datos validos del atributo con datos perdidos para su uso en completar los valores faltantes"
   ]
  },
  {
   "cell_type": "code",
   "execution_count": null,
   "id": "8b584ef4",
   "metadata": {},
   "outputs": [],
   "source": [
    "datos_vals=[]\n",
    "for i in data_fill.index:\n",
    "    datum = data_fill.loc[i,data_fill.columns[10]]\n",
    "    datos_vals += [datum]"
   ]
  },
  {
   "cell_type": "markdown",
   "id": "0bc8a04a",
   "metadata": {},
   "source": [
    "# Selección de dato aleatorio para comenzar a rellenar datos faltantes"
   ]
  },
  {
   "cell_type": "code",
   "execution_count": null,
   "id": "1c9b0780",
   "metadata": {},
   "outputs": [],
   "source": [
    "item_ini = random.choice(datos_vals)\n",
    "\n",
    "part1= datos_vals[:datos_vals.index(item_ini)]\n",
    "part2= datos_vals[datos_vals.index(item_ini):]\n",
    "\n",
    "ht_deck= part1+part2"
   ]
  },
  {
   "cell_type": "markdown",
   "id": "f26858bb",
   "metadata": {},
   "source": [
    "# Comprobación de datos antes de imputación"
   ]
  },
  {
   "cell_type": "code",
   "execution_count": null,
   "id": "c858634d",
   "metadata": {},
   "outputs": [],
   "source": [
    "print(data_missings['stalk-root'].value_counts())\n",
    "print(data_fill['stalk-root'].value_counts())"
   ]
  },
  {
   "cell_type": "markdown",
   "id": "d3f6efd7",
   "metadata": {},
   "source": [
    "# Imputación de datos faltantes mediante Hot-Deck"
   ]
  },
  {
   "cell_type": "code",
   "execution_count": null,
   "id": "44bcd5c8",
   "metadata": {},
   "outputs": [],
   "source": [
    "for i,n in zip(data_missings.index,ht_deck):\n",
    "    data_missings.loc[i,data_missings.columns[10]] = n"
   ]
  },
  {
   "cell_type": "markdown",
   "id": "ec043a51",
   "metadata": {},
   "source": [
    "# Comprobación de datos después de imputación"
   ]
  },
  {
   "cell_type": "code",
   "execution_count": null,
   "id": "977efb67",
   "metadata": {},
   "outputs": [],
   "source": [
    "print(data_missings['stalk-root'].value_counts())\n",
    "print(data_fill['stalk-root'].value_counts())"
   ]
  },
  {
   "cell_type": "markdown",
   "id": "2c4a1b19",
   "metadata": {},
   "source": [
    "# Creación de dataframe con datos imputados"
   ]
  },
  {
   "cell_type": "code",
   "execution_count": null,
   "id": "df8bc6d0",
   "metadata": {},
   "outputs": [],
   "source": [
    "data_Hot_Deck = pd.concat([data_fill,data_missings])\n",
    "data_Hot_Deck"
   ]
  },
  {
   "cell_type": "markdown",
   "id": "85c82d6a",
   "metadata": {},
   "source": [
    "# Comprobación de datos por atributo y no nulos"
   ]
  },
  {
   "cell_type": "code",
   "execution_count": null,
   "id": "833019c1",
   "metadata": {},
   "outputs": [],
   "source": [
    "dat_miss_cods=[]\n",
    "for n,col in enumerate(att):\n",
    "    dat_miss_cods += [[n,col,data_Hot_Deck[col].unique().tolist()]]\n",
    "#     print(data[col].unique(),col)\n",
    "    \n",
    "print(tabulate(dat_miss_cods,headers=['#','Atributo','Datos']))"
   ]
  },
  {
   "cell_type": "markdown",
   "id": "f335f324",
   "metadata": {},
   "source": [
    "# Conteo de datos en atributo con datos imputados"
   ]
  },
  {
   "cell_type": "code",
   "execution_count": null,
   "id": "b35762b1",
   "metadata": {},
   "outputs": [],
   "source": [
    "plt.figure()\n",
    "plt.title('Distribución de datos '+col)\n",
    "plt.grid('on')\n",
    "sns.countplot(data_Hot_Deck['stalk-root'])\n",
    "plt.show()"
   ]
  },
  {
   "cell_type": "markdown",
   "id": "9b3bd3b4",
   "metadata": {},
   "source": [
    "# Codificación de datos para train a partir de imputación Hot-Deck"
   ]
  },
  {
   "cell_type": "code",
   "execution_count": null,
   "id": "b7ce31b1",
   "metadata": {},
   "outputs": [],
   "source": [
    "data_Hot_Deck_cod= data_Hot_Deck.copy()\n",
    "for d in dat_miss_cods:\n",
    "    for code,datum in enumerate(d[2]):\n",
    "        data_Hot_Deck_cod.loc[data_Hot_Deck_cod[d[1]]==datum,d[1]]=code\n",
    "    data_Hot_Deck_cod[d[1]] = data_Hot_Deck_cod[d[1]].astype('float')\n",
    "data_Hot_Deck_cod"
   ]
  },
  {
   "cell_type": "markdown",
   "id": "5fb9bf06",
   "metadata": {},
   "source": [
    "# División de datos en train y test 80/20"
   ]
  },
  {
   "cell_type": "code",
   "execution_count": null,
   "id": "78876903",
   "metadata": {},
   "outputs": [],
   "source": [
    "from sklearn.utils import shuffle\n",
    "from sklearn.model_selection import train_test_split, KFold\n",
    "\n",
    "# Aleatorización de datos\n",
    "x = data_Hot_Deck_cod[data_Hot_Deck_cod.columns[:-1]]\n",
    "y = data_Hot_Deck_cod[data_Hot_Deck_cod.columns[-1]]\n",
    "print(x.shape)\n",
    "print(y.shape)\n",
    "train, labels = shuffle(x, y)\n",
    "\n",
    "# Division de datos en train y test\n",
    "x_train, x_test, y_train, y_test = train_test_split(train, labels, train_size = 0.8)\n",
    "x_train.shape\n",
    "print(data_Hot_Deck_cod.columns[:-1])\n",
    "print(data_Hot_Deck[data_Hot_Deck.columns[-1]].unique().tolist())"
   ]
  },
  {
   "cell_type": "markdown",
   "id": "c9e42f00",
   "metadata": {},
   "source": [
    "# Train de Modelo RandomForestClassifier con datos imputados por moda por clase"
   ]
  },
  {
   "cell_type": "code",
   "execution_count": null,
   "id": "1dd284ab",
   "metadata": {},
   "outputs": [],
   "source": [
    "from sklearn.ensemble import RandomForestClassifier\n",
    "\n",
    "bosque = RandomForestClassifier(n_estimators=100,\n",
    "                                   criterion='entropy',\n",
    "                                   max_features='sqrt',\n",
    "                                   bootstrap=True,\n",
    "                                   max_samples=2/3,\n",
    "                                   oob_score=True)\n",
    "\n",
    "bosque.fit(x_train, y_train)"
   ]
  },
  {
   "cell_type": "markdown",
   "id": "c8c3f4b6",
   "metadata": {},
   "source": [
    "# Predicción y score con datos train y test"
   ]
  },
  {
   "cell_type": "code",
   "execution_count": null,
   "id": "85c1110d",
   "metadata": {},
   "outputs": [],
   "source": [
    "test0 = x_test.iloc[0].tolist()\n",
    "test1 = x_test.iloc[1].tolist()\n",
    "test2 = x_test.iloc[2].tolist()\n",
    "test3 = x_test.iloc[3].tolist()\n",
    "test4 = x_test.iloc[4].tolist()\n",
    "\n",
    "print('Prediccion: ', bosque.predict([test0]))\n",
    "print('Verdadero: ', y_test.iloc[0].tolist())\n",
    "print('Prediccion: ', bosque.predict([test1]))\n",
    "print('Verdadero: ', y_test.iloc[1].tolist())\n",
    "print('Prediccion: ', bosque.predict([test2]))\n",
    "print('Verdadero: ', y_test.iloc[2].tolist())\n",
    "print('Prediccion: ', bosque.predict([test3]))\n",
    "print('Verdadero: ', y_test.iloc[3].tolist())\n",
    "print('Prediccion: ', bosque.predict([test4]))\n",
    "print('Verdadero: ', y_test.iloc[4].tolist())\n",
    "\n",
    "print('\\nscore con datos de train',bosque.score(x_train,y_train))\n",
    "print('score con datos de test',bosque.score(x_test,y_test))\n",
    "print('score',bosque.oob_score_)"
   ]
  },
  {
   "cell_type": "markdown",
   "id": "44ee026f",
   "metadata": {},
   "source": [
    "# Reporte y matriz de confusión"
   ]
  },
  {
   "cell_type": "code",
   "execution_count": null,
   "id": "6a1337eb",
   "metadata": {},
   "outputs": [],
   "source": [
    "from sklearn.metrics import accuracy_score, confusion_matrix, classification_report\n",
    "\n",
    "y_pred_test = bosque.predict(x_test)\n",
    "print('Matriz de confusión y reporte')\n",
    "print(accuracy_score(y_test, y_pred_test))\n",
    "print(confusion_matrix(y_test, y_pred_test))\n",
    "print(classification_report(y_test, y_pred_test))"
   ]
  },
  {
   "cell_type": "code",
   "execution_count": null,
   "id": "e72257ea",
   "metadata": {},
   "outputs": [],
   "source": [
    "matrix = confusion_matrix(y_test, y_pred_test)\n",
    "\n",
    "# Build the plot\n",
    "plt.figure(figsize=(16,7))\n",
    "sns.set(font_scale=1.4)\n",
    "sns.heatmap(matrix, annot=True, annot_kws={'size':10},\n",
    "            cmap=plt.cm.Greens, linewidths=0.2,fmt='d')\n",
    "\n",
    "# Add labels to the plot\n",
    "class_names = ['poisonous', 'edible']\n",
    "tick_marks = np.arange(len(class_names))\n",
    "tick_marks2 = tick_marks + 0.5\n",
    "plt.xticks(tick_marks, class_names, rotation=25,fontsize=20)\n",
    "plt.yticks(tick_marks2, class_names, rotation=0,fontsize=20)\n",
    "plt.xlabel('Predicted label')\n",
    "plt.ylabel('True label')\n",
    "plt.title('Confusion Matrix for Random Forest Model')\n",
    "plt.show()"
   ]
  },
  {
   "cell_type": "markdown",
   "id": "e6db0788",
   "metadata": {},
   "source": [
    "# Visualización de Bosque Aleatorio"
   ]
  },
  {
   "cell_type": "code",
   "execution_count": null,
   "id": "8680023a",
   "metadata": {},
   "outputs": [],
   "source": [
    "import matplotlib.pyplot as plt\n",
    "from sklearn import tree\n",
    "\n",
    "for e,arbol in zip(range(10),bosque.estimators_):\n",
    "    fig = plt.figure(figsize=(40,35),dpi=300)\n",
    "    plt.title('Arbol #: ' + str(e))\n",
    "    tree.plot_tree(arbol, \n",
    "                   feature_names=data_Hot_Deck_cod.columns[:-1],\n",
    "                   class_names=class_names,\n",
    "                  filled=True)\n",
    "#     plt.savefig('Arbol_HD_' + str(e)+'.png', dpi=300)\n",
    "    plt.show()"
   ]
  },
  {
   "cell_type": "markdown",
   "id": "a9f81354",
   "metadata": {},
   "source": [
    "# Evolución del OOB Error vs Número árboles"
   ]
  },
  {
   "cell_type": "code",
   "execution_count": null,
   "id": "d8d6f979",
   "metadata": {},
   "outputs": [],
   "source": [
    "# Validación empleando el Out-of-Bag error\n",
    "# ==============================================================================\n",
    "train_scores = []\n",
    "oob_scores   = []\n",
    "\n",
    "# Valores evaluados\n",
    "estimator_range = range(1, 50, 5)\n",
    "\n",
    "# Bucle para entrenar un modelo con cada valor de n_estimators y extraer su error\n",
    "# de entrenamiento y de Out-of-Bag.\n",
    "for n_estimators in estimator_range:\n",
    "    bosque = RandomForestClassifier(\n",
    "                n_estimators = n_estimators,\n",
    "                criterion    = 'entropy',\n",
    "                max_depth    = None,\n",
    "                max_features = 'sqrt',\n",
    "                oob_score    = True,\n",
    "                n_jobs       = -1,\n",
    "                random_state = 123\n",
    "             )\n",
    "    bosque.fit(x_train, y_train)\n",
    "    train_scores.append(bosque.score(x_train, y_train))\n",
    "    oob_scores.append(bosque.oob_score_)\n",
    "    \n",
    "# Gráfico con la evolución de los errores\n",
    "fig, ax = plt.subplots(figsize=(6, 3.84))\n",
    "ax.plot(estimator_range, train_scores, label=\"train scores\")\n",
    "ax.plot(estimator_range, oob_scores, label=\"out-of-bag scores\")\n",
    "ax.plot(estimator_range[np.argmax(oob_scores)], max(oob_scores),\n",
    "        marker='o', color = \"red\", label=\"max score\")\n",
    "ax.set_ylabel(\"R^2\")\n",
    "ax.set_xlabel(\"n_estimators\")\n",
    "ax.set_title(\"Evolución del out-of-bag-error vs número árboles\")\n",
    "plt.legend();\n",
    "print(f\"Valor óptimo de n_estimators: {estimator_range[np.argmax(oob_scores)]}\")"
   ]
  },
  {
   "cell_type": "markdown",
   "id": "6edc0970",
   "metadata": {},
   "source": [
    "# Evolución del cv-error vs número árboles"
   ]
  },
  {
   "cell_type": "code",
   "execution_count": null,
   "id": "f358c273",
   "metadata": {},
   "outputs": [],
   "source": [
    "from sklearn.metrics import mean_squared_error\n",
    "from sklearn.model_selection import cross_val_score\n",
    "\n",
    "# Validación empleando k-cross-validation y neg_root_mean_squared_error\n",
    "# ==============================================================================\n",
    "train_scores = []\n",
    "cv_scores    = []\n",
    "\n",
    "# Valores evaluados\n",
    "estimator_range = range(1, 50, 5)\n",
    "\n",
    "# Bucle para entrenar un modelo con cada valor de n_estimators y extraer su error\n",
    "# de entrenamiento y de k-cross-validation.\n",
    "for n_estimators in estimator_range:\n",
    "    \n",
    "    bosque = RandomForestClassifier(\n",
    "                n_estimators = n_estimators,\n",
    "                criterion    = 'entropy',\n",
    "                max_depth    = None,\n",
    "                max_features = 'sqrt',\n",
    "                oob_score    = False,\n",
    "                n_jobs       = -1,\n",
    "                random_state = 123\n",
    "             )\n",
    "    \n",
    "    # Error de train\n",
    "    bosque.fit(x_train, y_train)\n",
    "    predicciones = bosque.predict(x_train)\n",
    "    rmse = mean_squared_error(\n",
    "            y_true  = y_train,\n",
    "            y_pred  = predicciones,\n",
    "            squared = False\n",
    "           )\n",
    "    train_scores.append(rmse)\n",
    "    \n",
    "    # Error de validación cruzada\n",
    "    scores = cross_val_score(\n",
    "                estimator = bosque,\n",
    "                X         = x_train,\n",
    "                y         = y_train,\n",
    "                scoring   = 'neg_root_mean_squared_error',\n",
    "                cv        = 5\n",
    "             )\n",
    "    # Se agregan los scores de cross_val_score() y se pasa a positivo\n",
    "    cv_scores.append(-1*scores.mean())\n",
    "    \n",
    "# Gráfico con la evolución de los errores\n",
    "fig, ax = plt.subplots(figsize=(6, 3.84))\n",
    "ax.plot(estimator_range, train_scores, label=\"train scores\")\n",
    "ax.plot(estimator_range, cv_scores, label=\"cv scores\")\n",
    "ax.plot(estimator_range[np.argmin(cv_scores)], min(cv_scores),\n",
    "        marker='o', color = \"red\", label=\"min score\")\n",
    "ax.set_ylabel(\"root_mean_squared_error\")\n",
    "ax.set_xlabel(\"n_estimators\")\n",
    "ax.set_title(\"Evolución del cv-error vs número árboles\")\n",
    "plt.legend();\n",
    "print(f\"Valor óptimo de n_estimators: {estimator_range[np.argmin(cv_scores)]}\")"
   ]
  },
  {
   "cell_type": "code",
   "execution_count": null,
   "id": "8a6f4d40",
   "metadata": {},
   "outputs": [],
   "source": []
  }
 ],
 "metadata": {
  "kernelspec": {
   "display_name": "Python 3 (ipykernel)",
   "language": "python",
   "name": "python3"
  },
  "language_info": {
   "codemirror_mode": {
    "name": "ipython",
    "version": 3
   },
   "file_extension": ".py",
   "mimetype": "text/x-python",
   "name": "python",
   "nbconvert_exporter": "python",
   "pygments_lexer": "ipython3",
   "version": "3.8.8"
  }
 },
 "nbformat": 4,
 "nbformat_minor": 5
}
